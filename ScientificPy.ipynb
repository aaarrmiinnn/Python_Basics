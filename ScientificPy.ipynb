{
 "cells": [
  {
   "cell_type": "code",
   "execution_count": 1,
   "metadata": {
    "collapsed": false
   },
   "outputs": [],
   "source": [
    "\n",
    "# cell pics from http://www.cellimagelibrary.org/groups/9070\n",
    "# augmented in photoshop for effect\n",
    "\n",
    "import numpy as np \n",
    "import matplotlib.pyplot as plt \n",
    "import os"
   ]
  },
  {
   "cell_type": "code",
   "execution_count": 2,
   "metadata": {
    "collapsed": true
   },
   "outputs": [],
   "source": [
    "cwd = os.getcwd()\n",
    "\n",
    "image_dir = os.path.join(cwd, 'files/image_timeseries')\n",
    "\n",
    "# Show how the paths work\n",
    "\n",
    "# need to do this list comprehension because of ds_Store\n",
    "files = [f for f in os.listdir(image_dir) if f.endswith('.jpg')]\n"
   ]
  },
  {
   "cell_type": "code",
   "execution_count": 6,
   "metadata": {
    "collapsed": true
   },
   "outputs": [],
   "source": [
    "\n",
    "redperimage = []\n",
    "greperimage = []\n",
    "bluperimage = []\n",
    "\n",
    "# Show what an image array looks like. A plt.imread then look through i, k, print k\n",
    "\n",
    "for image in files:\n",
    "    \n",
    "    img = plt.imread( os.path.join( image_dir, image))\n",
    "    reds = img[:,:,0]\n",
    "    redperimage.append( np.sum(reds))\n",
    "    greens = img[:,:,1]\n",
    "    greperimage.append( np.sum(greens))\n",
    "    blues = img[:,:,2]\n",
    "    bluperimage.append( np.sum(blues))\n",
    "\n",
    "redperimage = np.array(redperimage, dtype = float)\n",
    "greperimage = np.array(greperimage, dtype = float)\n",
    "bluperimage = np.array(bluperimage, dtype = float)\n",
    "\n",
    "ratio = redperimage / greperimage"
   ]
  },
  {
   "cell_type": "code",
   "execution_count": 10,
   "metadata": {
    "collapsed": false
   },
   "outputs": [
    {
     "data": {
      "text/plain": [
       "[<matplotlib.lines.Line2D at 0x10bc1cb90>]"
      ]
     },
     "execution_count": 10,
     "metadata": {},
     "output_type": "execute_result"
    },
    {
     "data": {
      "image/png": "[encoded data removed]",
      "text/plain": [
       "<matplotlib.figure.Figure at 0x10c40d9d0>"
      ]
     },
     "metadata": {},
     "output_type": "display_data"
    }
   ],
   "source": [
    "% matplotlib inline\n",
    "\n",
    "plt.subplot(211)\n",
    "# since this X is number of image you can write [1,2,3,4,5,6,7,8,9,10,11,12,13,14,15,16]\n",
    "plt.plot(range(0, len(redperimage)), redperimage, 'r-')\n",
    "plt.plot(range(0, len(greperimage)), greperimage, 'g-')\n",
    "plt.plot(range(0, len(bluperimage)), bluperimage, 'b-')\n",
    "\n",
    "plt.subplot(212)\n",
    "plt.plot(range(0, len(ratio)), ratio, 'k--')\n",
    "\n"
   ]
  },
  {
   "cell_type": "code",
   "execution_count": null,
   "metadata": {
    "collapsed": true
   },
   "outputs": [],
   "source": []
  }
 ],
 "metadata": {
  "kernelspec": {
   "display_name": "Python 2",
   "language": "python",
   "name": "python2"
  },
  "language_info": {
   "codemirror_mode": {
    "name": "ipython",
    "version": 2
   },
   "file_extension": ".py",
   "mimetype": "text/x-python",
   "name": "python",
   "nbconvert_exporter": "python",
   "pygments_lexer": "ipython2",
   "version": "2.7.6"
  }
 },
 "nbformat": 4,
 "nbformat_minor": 0
}
